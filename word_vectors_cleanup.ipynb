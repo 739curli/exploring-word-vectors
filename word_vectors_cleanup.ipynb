{
 "cells": [
  {
   "cell_type": "code",
   "execution_count": 1,
   "metadata": {
    "collapsed": true
   },
   "outputs": [],
   "source": [
    "import numpy as np\n",
    "import re\n",
    "import pickle"
   ]
  },
  {
   "cell_type": "code",
   "execution_count": 2,
   "metadata": {
    "collapsed": false
   },
   "outputs": [],
   "source": [
    "# load array of words\n",
    "words = np.load('words.npy').tolist()\n",
    "words = [w.lower() for w in words]"
   ]
  },
  {
   "cell_type": "code",
   "execution_count": 3,
   "metadata": {
    "collapsed": false
   },
   "outputs": [],
   "source": [
    "# Create binary index of words to remove\n",
    "def regex_filter(string):\n",
    "    return 0 if re.match(\"(^.*#.*$)|([0-9])|(^.*---.*$)|(http)|(^.*@.*$)|(^[a-zA-Z]{1}$)\",string) is not None else 1\n",
    "remove = [regex_filter(w) for w in words]"
   ]
  },
  {
   "cell_type": "code",
   "execution_count": 4,
   "metadata": {
    "collapsed": true
   },
   "outputs": [],
   "source": [
    "# Count duplicates of words \n",
    "word_count = {}\n",
    "for i,word in enumerate(words):\n",
    "    if word in word_count: \n",
    "        word_count[word].append(i)\n",
    "    else:\n",
    "        word_count[word] = [i]"
   ]
  },
  {
   "cell_type": "code",
   "execution_count": 5,
   "metadata": {
    "collapsed": false
   },
   "outputs": [],
   "source": [
    "# Set duplicate words for removal\n",
    "for i in word_count:\n",
    "    if len(word_count[i])>1:\n",
    "        for word_index in word_count[i][1:]:\n",
    "            remove[word_index]=0"
   ]
  },
  {
   "cell_type": "code",
   "execution_count": 9,
   "metadata": {
    "collapsed": false
   },
   "outputs": [],
   "source": [
    "# Save removal list for use outside of Jupyter \n",
    "pickle.dump(remove, open('removal_list','wb'))"
   ]
  },
  {
   "cell_type": "code",
   "execution_count": null,
   "metadata": {
    "collapsed": true
   },
   "outputs": [],
   "source": []
  }
 ],
 "metadata": {
  "anaconda-cloud": {},
  "kernelspec": {
   "display_name": "Python [Root]",
   "language": "python",
   "name": "Python [Root]"
  },
  "language_info": {
   "codemirror_mode": {
    "name": "ipython",
    "version": 3
   },
   "file_extension": ".py",
   "mimetype": "text/x-python",
   "name": "python",
   "nbconvert_exporter": "python",
   "pygments_lexer": "ipython3",
   "version": "3.5.2"
  }
 },
 "nbformat": 4,
 "nbformat_minor": 0
}
